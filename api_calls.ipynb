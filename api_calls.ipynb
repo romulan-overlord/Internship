{
 "cells": [
  {
   "cell_type": "code",
   "execution_count": null,
   "metadata": {},
   "outputs": [
    {
     "ename": "",
     "evalue": "",
     "output_type": "error",
     "traceback": [
      "\u001b[1;31mFailed to start the Kernel. \n",
      "\u001b[1;31mUnable to start Kernel 'Code (Python 3.11.0)' due to a timeout waiting for the ports to get used. \n",
      "\u001b[1;31mView Jupyter <a href='command:jupyter.viewOutput'>log</a> for further details."
     ]
    }
   ],
   "source": [
    "import requests\n",
    "import json\n",
    "\n",
    "username = 'admin'\n",
    "password = 'qC9Uu*xXkF0^'\n",
    "host = 'dev200672.service-now.com'\n",
    "port = 80\n",
    "path = \"/api/now/table/incident\"\n",
    "url = f\"http://{username}:{password}@{host}/{path}\"\n",
    "response = requests.get(url)"
   ]
  },
  {
   "cell_type": "code",
   "execution_count": 9,
   "metadata": {},
   "outputs": [
    {
     "name": "stdout",
     "output_type": "stream",
     "text": [
      "{'calendar_integration': '1', 'country': '', 'user_password': '91403G174q', 'last_login_time': '2019-04-05 22:16:30', 'source': '', 'sys_updated_on': '2024-05-06 10:31:54', 'building': '', 'web_service_access_only': 'false', 'notification': '2', 'enable_multifactor_authn': 'false', 'sys_updated_by': 'developer.program.hop@snc', 'sys_created_on': '2019-04-05 21:09:12', 'sys_domain': {'link': 'https://dev200672.service-now.com/api/now/table/sys_user_group/global', 'value': 'global'}, 'state': '', 'vip': 'false', 'sys_created_by': 'admin', 'zip': '', 'home_phone': '', 'time_format': '', 'last_login': '2019-04-05', 'default_perspective': '', 'active': 'true', 'sys_domain_path': '/', 'cost_center': '', 'phone': '', 'name': 'survey user', 'employee_number': '', 'password_needs_reset': 'false', 'gender': '', 'city': '', 'failed_attempts': '0', 'user_name': 'survey.user', 'roles': '', 'title': '', 'sys_class_name': 'sys_user', 'sys_id': '005d500b536073005e0addeeff7b12f4', 'federated_id': 'UU/OJDA/H2viaQb8VqlJIYSYKwmbkOCLoFDQkTPv7XM=', 'internal_integration_user': 'false', 'ldap_server': '', 'mobile_phone': '', 'street': '', 'company': '', 'department': '', 'first_name': 'survey', 'email': 'survey.user@email.com', 'introduction': '', 'preferred_language': '', 'manager': '', 'locked_out': 'false', 'sys_mod_count': '3', 'last_name': 'user', 'photo': '', 'avatar': '', 'middle_name': '', 'sys_tags': '', 'time_zone': '', 'schedule': '', 'date_format': '', 'location': ''}\n"
     ]
    }
   ],
   "source": [
    "print(response.json())"
   ]
  },
  {
   "cell_type": "code",
   "execution_count": 11,
   "metadata": {},
   "outputs": [],
   "source": [
    "response_dict = response.json()\n",
    "\n",
    "with open('response_data.json', 'w') as file:\n",
    "    json.dump(response_dict, file, indent=4)"
   ]
  }
 ],
 "metadata": {
  "kernelspec": {
   "display_name": "Code",
   "language": "python",
   "name": "python3"
  },
  "language_info": {
   "codemirror_mode": {
    "name": "ipython",
    "version": 3
   },
   "file_extension": ".py",
   "mimetype": "text/x-python",
   "name": "python",
   "nbconvert_exporter": "python",
   "pygments_lexer": "ipython3",
   "version": "3.11.0"
  }
 },
 "nbformat": 4,
 "nbformat_minor": 2
}
