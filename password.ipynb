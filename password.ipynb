{
 "cells": [
  {
   "cell_type": "code",
   "execution_count": 13,
   "metadata": {},
   "outputs": [],
   "source": [
    "import win32api\n",
    "import win32security\n",
    "\n",
    "def reset_password(username, old_password, new_password):\n",
    "    # try:\n",
    "    handle = win32security.LogonUser(username, '.', old_password, win32security.LOGON32_LOGON_INTERACTIVE, win32security.LOGON32_PROVIDER_DEFAULT)\n",
    "    # win32api.NetUserChangePassword(\"WinNT\", username, None, new_password)\n",
    "    win32security.ChangePasswordA(\"WinNT\", username, old_password, new_password)\n",
    "    win32security.CloseHandle(handle)\n",
    "    print(\"Password reset successful!\")\n",
    "    # except win32security.error:\n",
    "    #     print(\"Failed to reset password.\")"
   ]
  },
  {
   "cell_type": "code",
   "execution_count": 9,
   "metadata": {},
   "outputs": [],
   "source": [
    "import re\n",
    "\n",
    "def validate_password(password):\n",
    "    pattern = r'^(?=.*[a-z]|[A-Z])(?=.*\\d)(?=.*[!@#$%^&*()_+{}|:<>?/~`])[A-Za-z\\d!@#$%^&*()_+{}|:<>?/~`]{8,}$'\n",
    "    return bool(re.match(pattern, password))"
   ]
  },
  {
   "cell_type": "code",
   "execution_count": 14,
   "metadata": {},
   "outputs": [
    {
     "name": "stdout",
     "output_type": "stream",
     "text": [
      "Password requirements:\n",
      " - Starts with a capital letter\n",
      " - Contains a digit and special character\n",
      " - At least 8 characters long\n",
      "\n",
      "Rockfall911! Rockfall911!\n"
     ]
    },
    {
     "ename": "AttributeError",
     "evalue": "module 'win32security' has no attribute 'ChangePasswordA'",
     "output_type": "error",
     "traceback": [
      "\u001b[1;31m---------------------------------------------------------------------------\u001b[0m",
      "\u001b[1;31mAttributeError\u001b[0m                            Traceback (most recent call last)",
      "Cell \u001b[1;32mIn[14], line 27\u001b[0m\n\u001b[0;32m     24\u001b[0m             \u001b[38;5;28mprint\u001b[39m(\u001b[38;5;124m\"\u001b[39m\u001b[38;5;124mInvalid password. Try again.\u001b[39m\u001b[38;5;124m\"\u001b[39m)\n\u001b[0;32m     26\u001b[0m \u001b[38;5;28;01mif\u001b[39;00m \u001b[38;5;18m__name__\u001b[39m \u001b[38;5;241m==\u001b[39m \u001b[38;5;124m'\u001b[39m\u001b[38;5;124m__main__\u001b[39m\u001b[38;5;124m'\u001b[39m:\n\u001b[1;32m---> 27\u001b[0m     \u001b[43mmain\u001b[49m\u001b[43m(\u001b[49m\u001b[43m)\u001b[49m\n",
      "Cell \u001b[1;32mIn[14], line 18\u001b[0m, in \u001b[0;36mmain\u001b[1;34m()\u001b[0m\n\u001b[0;32m     16\u001b[0m \u001b[38;5;28;01mif\u001b[39;00m validate_password(password1):\n\u001b[0;32m     17\u001b[0m     \u001b[38;5;28;01mif\u001b[39;00m password1 \u001b[38;5;241m==\u001b[39m password2:\n\u001b[1;32m---> 18\u001b[0m         \u001b[43mreset_password\u001b[49m\u001b[43m(\u001b[49m\u001b[38;5;124;43m\"\u001b[39;49m\u001b[38;5;124;43mdmacs-204214\u001b[39;49m\u001b[38;5;124;43m\"\u001b[39;49m\u001b[43m,\u001b[49m\u001b[43m \u001b[49m\u001b[38;5;124;43m'\u001b[39;49m\u001b[38;5;124;43mrockfall911\u001b[39;49m\u001b[38;5;124;43m'\u001b[39;49m\u001b[43m \u001b[49m\u001b[43m,\u001b[49m\u001b[43mpassword1\u001b[49m\u001b[43m)\u001b[49m\n\u001b[0;32m     19\u001b[0m         \u001b[38;5;28mprint\u001b[39m(\u001b[38;5;124m\"\u001b[39m\u001b[38;5;124mPassword reset successful!\u001b[39m\u001b[38;5;124m\"\u001b[39m)\n\u001b[0;32m     20\u001b[0m         \u001b[38;5;28;01mbreak\u001b[39;00m\n",
      "Cell \u001b[1;32mIn[13], line 8\u001b[0m, in \u001b[0;36mreset_password\u001b[1;34m(username, old_password, new_password)\u001b[0m\n\u001b[0;32m      6\u001b[0m handle \u001b[38;5;241m=\u001b[39m win32security\u001b[38;5;241m.\u001b[39mLogonUser(username, \u001b[38;5;124m'\u001b[39m\u001b[38;5;124m.\u001b[39m\u001b[38;5;124m'\u001b[39m, old_password, win32security\u001b[38;5;241m.\u001b[39mLOGON32_LOGON_INTERACTIVE, win32security\u001b[38;5;241m.\u001b[39mLOGON32_PROVIDER_DEFAULT)\n\u001b[0;32m      7\u001b[0m \u001b[38;5;66;03m# win32api.NetUserChangePassword(\"WinNT\", username, None, new_password)\u001b[39;00m\n\u001b[1;32m----> 8\u001b[0m \u001b[43mwin32security\u001b[49m\u001b[38;5;241;43m.\u001b[39;49m\u001b[43mChangePasswordA\u001b[49m(\u001b[38;5;124m\"\u001b[39m\u001b[38;5;124mWinNT\u001b[39m\u001b[38;5;124m\"\u001b[39m, username, old_password, new_password)\n\u001b[0;32m      9\u001b[0m win32security\u001b[38;5;241m.\u001b[39mCloseHandle(handle)\n\u001b[0;32m     10\u001b[0m \u001b[38;5;28mprint\u001b[39m(\u001b[38;5;124m\"\u001b[39m\u001b[38;5;124mPassword reset successful!\u001b[39m\u001b[38;5;124m\"\u001b[39m)\n",
      "\u001b[1;31mAttributeError\u001b[0m: module 'win32security' has no attribute 'ChangePasswordA'"
     ]
    }
   ],
   "source": [
    "from getpass import getpass\n",
    "\n",
    "def main():\n",
    "    print(\"Password requirements:\")\n",
    "    print(\" - Starts with a capital letter\")\n",
    "    print(\" - Contains a digit and special character\")\n",
    "    print(\" - At least 8 characters long\\n\")\n",
    "\n",
    "    while True:\n",
    "        # password1 = getpass(\"Enter new password: \")\n",
    "        # password2 = getpass(\"Confirm new password: \")\n",
    "        password1 = 'Rockfall911!'\n",
    "        password2 = 'Rockfall911!'\n",
    "        print(password1, password2)\n",
    "\n",
    "        if validate_password(password1):\n",
    "            if password1 == password2:\n",
    "                reset_password(\"dmacs-204214\", 'rockfall911' ,password1)\n",
    "                print(\"Password reset successful!\")\n",
    "                break\n",
    "            else:\n",
    "                print(\"Passwords do not match. Try again.\")\n",
    "        else:\n",
    "            print(\"Invalid password. Try again.\")\n",
    "\n",
    "if __name__ == '__main__':\n",
    "    main()"
   ]
  },
  {
   "cell_type": "code",
   "execution_count": 16,
   "metadata": {},
   "outputs": [
    {
     "ename": "com_error",
     "evalue": "(-2147352567, 'Exception occurred.', (0, 'Active Directory', 'Access is denied.\\r\\n', None, 0, -2147024891), None)",
     "output_type": "error",
     "traceback": [
      "\u001b[1;31m---------------------------------------------------------------------------\u001b[0m",
      "\u001b[1;31mcom_error\u001b[0m                                 Traceback (most recent call last)",
      "Cell \u001b[1;32mIn[16], line 20\u001b[0m\n\u001b[0;32m     18\u001b[0m u \u001b[38;5;241m=\u001b[39m \u001b[38;5;124m\"\u001b[39m\u001b[38;5;124mdmacs-204214\u001b[39m\u001b[38;5;124m\"\u001b[39m\n\u001b[0;32m     19\u001b[0m p \u001b[38;5;241m=\u001b[39m \u001b[38;5;124m\"\u001b[39m\u001b[38;5;124mRockfall911!\u001b[39m\u001b[38;5;124m\"\u001b[39m\n\u001b[1;32m---> 20\u001b[0m \u001b[43mset_password\u001b[49m\u001b[43m(\u001b[49m\u001b[43mu\u001b[49m\u001b[43m,\u001b[49m\u001b[43m \u001b[49m\u001b[43mp\u001b[49m\u001b[43m)\u001b[49m\n\u001b[0;32m     21\u001b[0m \u001b[38;5;28;01mif\u001b[39;00m verify_success(u, p):\n\u001b[0;32m     22\u001b[0m     \u001b[38;5;28mprint\u001b[39m (\u001b[38;5;124m\"\u001b[39m\u001b[38;5;124mW00t it workz\u001b[39m\u001b[38;5;124m\"\u001b[39m)\n",
      "Cell \u001b[1;32mIn[16], line 5\u001b[0m, in \u001b[0;36mset_password\u001b[1;34m(username, password)\u001b[0m\n\u001b[0;32m      3\u001b[0m ads_obj \u001b[38;5;241m=\u001b[39m adsi\u001b[38;5;241m.\u001b[39mADsGetObject(\u001b[38;5;124m\"\u001b[39m\u001b[38;5;124mWinNT://localhost/\u001b[39m\u001b[38;5;132;01m%s\u001b[39;00m\u001b[38;5;124m,user\u001b[39m\u001b[38;5;124m\"\u001b[39m \u001b[38;5;241m%\u001b[39m username)\n\u001b[0;32m      4\u001b[0m ads_obj\u001b[38;5;241m.\u001b[39mGetinfo()\n\u001b[1;32m----> 5\u001b[0m \u001b[43mads_obj\u001b[49m\u001b[38;5;241;43m.\u001b[39;49m\u001b[43msetPassword\u001b[49m\u001b[43m(\u001b[49m\u001b[43mpassword\u001b[49m\u001b[43m)\u001b[49m\n\u001b[0;32m      6\u001b[0m ads_obj\u001b[38;5;241m.\u001b[39mSetInfo()\n",
      "File \u001b[1;32m<COMObject Dispatch wrapper around <PyIDispatch at 0x000001D7DAEDDA60 with obj at 0x000001D7DD43F6D8>>:2\u001b[0m, in \u001b[0;36msetPassword\u001b[1;34m(self, *args)\u001b[0m\n",
      "\u001b[1;31mcom_error\u001b[0m: (-2147352567, 'Exception occurred.', (0, 'Active Directory', 'Access is denied.\\r\\n', None, 0, -2147024891), None)"
     ]
    }
   ],
   "source": [
    "def set_password(username, password):\n",
    "    from win32com import adsi\n",
    "    ads_obj = adsi.ADsGetObject(\"WinNT://localhost/%s,user\" % username)\n",
    "    ads_obj.Getinfo()\n",
    "    ads_obj.setPassword(password)\n",
    "    ads_obj.SetInfo()\n",
    "\n",
    "\n",
    "def verify_success(username, password):\n",
    "    from win32security import LogonUser\n",
    "    from win32con import LOGON32_LOGON_INTERACTIVE, LOGON32_PROVIDER_DEFAULT\n",
    "    try:\n",
    "        LogonUser(username, None, password, LOGON32_LOGON_INTERACTIVE, LOGON32_PROVIDER_DEFAULT)\n",
    "    except:\n",
    "        return False\n",
    "    return True\n",
    "\n",
    "u = \"dmacs-204214\"\n",
    "p = \"Rockfall911!\"\n",
    "set_password(u, p)\n",
    "if verify_success(u, p):\n",
    "    print (\"W00t it workz\")\n",
    "else:\n",
    "    print (\"Continue Googling\")"
   ]
  },
  {
   "cell_type": "code",
   "execution_count": null,
   "metadata": {},
   "outputs": [],
   "source": [
    "def set_password(username, password):\n",
    "    from win32com import adsi\n",
    "    ads_obj = adsi.ADsGetObject(\"WinNT://localhost/%s,user\" % username)\n",
    "    ads_obj.Getinfo()\n",
    "    ads_obj.Put('Password', password)\n",
    "    ads_obj.SetInfo()\n"
   ]
  }
 ],
 "metadata": {
  "kernelspec": {
   "display_name": "Code",
   "language": "python",
   "name": "python3"
  },
  "language_info": {
   "codemirror_mode": {
    "name": "ipython",
    "version": 3
   },
   "file_extension": ".py",
   "mimetype": "text/x-python",
   "name": "python",
   "nbconvert_exporter": "python",
   "pygments_lexer": "ipython3",
   "version": "3.11.0"
  }
 },
 "nbformat": 4,
 "nbformat_minor": 2
}
